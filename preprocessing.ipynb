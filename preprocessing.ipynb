{
 "cells": [
  {
   "attachments": {},
   "cell_type": "markdown",
   "metadata": {},
   "source": [
    "let's look at the data shall we? ;)"
   ]
  },
  {
   "cell_type": "code",
   "execution_count": 2,
   "metadata": {},
   "outputs": [],
   "source": [
    "# let's import the libraries\n",
    "\n",
    "import pandas as pd\n",
    "import numpy as np\n",
    "import matplotlib.pyplot as plt\n",
    "import seaborn as sns"
   ]
  },
  {
   "cell_type": "code",
   "execution_count": 20,
   "metadata": {},
   "outputs": [
    {
     "name": "stderr",
     "output_type": "stream",
     "text": [
      "C:\\Users\\Mohamed\\AppData\\Local\\Temp\\ipykernel_24228\\2690445916.py:3: DtypeWarning: Columns (21,22,23,24,69,70,71,72,93,94,95,96,97,104,105,106,107,108,109,110,111,112,113,114,115,116,117,118,119,120) have mixed types. Specify dtype option on import or set low_memory=False.\n",
      "  dataset = pd.read_csv('X_train_G3tdtEn.csv')\n"
     ]
    },
    {
     "data": {
      "text/plain": [
       "<AxesSubplot: >"
      ]
     },
     "execution_count": 20,
     "metadata": {},
     "output_type": "execute_result"
    },
    {
     "data": {
      "image/png": "[encoded data removed]",
      "text/plain": [
       "<Figure size 640x480 with 1 Axes>"
      ]
     },
     "metadata": {},
     "output_type": "display_data"
    }
   ],
   "source": [
    "# let's import the dataset\n",
    "\n",
    "dataset = pd.read_csv('X_train_G3tdtEn.csv')\n",
    "#print(dataset.head(10))\n",
    "\n",
    "# let's check the shape of the dataset\n",
    "#print(dataset.shape)\n",
    "\n",
    "# let's do some statistical analysis\n",
    "dataset.describe()\n",
    "# as you can see, there are some missing values in the dataset and we need to handle them \n",
    "# also those statistical values are not very useful as for now\n",
    "\n",
    "# let's plot some graphs to see the distribution of the data\n",
    "# let's plot the histogram of the number of numbers of the Nb_of_items\n",
    "dataset['Nb_of_items'].hist(bins=50)\n",
    "# let's plot the histogram of the the first 5 Nbr_of_prod_purchas\n",
    "dataset['Nbr_of_prod_purchas1'].hist(bins=50)\n",
    "dataset['Nbr_of_prod_purchas2'].hist(bins=50)\n",
    "dataset['Nbr_of_prod_purchas3'].hist(bins=50)\n",
    "dataset['Nbr_of_prod_purchas4'].hist(bins=50)\n",
    "dataset['Nbr_of_prod_purchas5'].hist(bins=50)\n"
   ]
  }
 ],
 "metadata": {
  "kernelspec": {
   "display_name": "Python 3",
   "language": "python",
   "name": "python3"
  },
  "language_info": {
   "codemirror_mode": {
    "name": "ipython",
    "version": 3
   },
   "file_extension": ".py",
   "mimetype": "text/x-python",
   "name": "python",
   "nbconvert_exporter": "python",
   "pygments_lexer": "ipython3",
   "version": "3.11.0"
  },
  "orig_nbformat": 4,
  "vscode": {
   "interpreter": {
    "hash": "cdb70b946708057d153231879c8013b53db701713e745e301ec7ffb0e9cf861f"
   }
  }
 },
 "nbformat": 4,
 "nbformat_minor": 2
}
